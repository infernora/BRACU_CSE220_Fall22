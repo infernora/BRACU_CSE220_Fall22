{
 "cells": [
  {
   "cell_type": "code",
   "execution_count": 7,
   "id": "a66d80cf",
   "metadata": {},
   "outputs": [
    {
     "name": "stdout",
     "output_type": "stream",
     "text": [
      "[1, 2, 3, 4, 5]\n"
     ]
    }
   ],
   "source": [
    "#SELECTION SORT\n",
    "\n",
    "a=[4,3,5,1,2]\n",
    "for i in range(len(a)):\n",
    "    min_idx=i\n",
    "    for j in range(i+1,len(a)):\n",
    "        if a[j]<a[min_idx]:\n",
    "            min_idx=j\n",
    "    temp=a[i]\n",
    "    a[i]=a[min_idx] \n",
    "    a[min_idx]=temp\n",
    "    # or a[i],a[min_idx]=a[min_idx],a[i]\n",
    "         \n",
    "print(a)"
   ]
  },
  {
   "cell_type": "code",
   "execution_count": 1,
   "id": "05922e2c",
   "metadata": {},
   "outputs": [
    {
     "name": "stdout",
     "output_type": "stream",
     "text": [
      "[1, 2, 3, 4, 5]\n"
     ]
    }
   ],
   "source": [
    "def recurselectionsort(a,i):\n",
    "    if i<len(a):\n",
    "        min_idx=minidx(a,i)    #don't do i+1 here or it creates problem in last node\n",
    "        a[i],a[min_idx]=a[min_idx],a[i]\n",
    "        recurselectionsort(a,i+1)\n",
    "               \n",
    "def minidx(a,j):\n",
    "    if j==len(a)-1:\n",
    "        return j\n",
    "    else:\n",
    "        k=minidx(a,j+1)\n",
    "        if a[j]<a[k]:\n",
    "            return j\n",
    "        else:\n",
    "            return k\n",
    "\n",
    "a=[4,3,5,1,2]\n",
    "recurselectionsort(a,0)\n",
    "print(a)"
   ]
  },
  {
   "cell_type": "code",
   "execution_count": 15,
   "id": "e012f727",
   "metadata": {},
   "outputs": [
    {
     "name": "stdout",
     "output_type": "stream",
     "text": [
      "[1, 2, 3, 4, 5]\n"
     ]
    }
   ],
   "source": [
    "#Bubble sort\n",
    "a=[4,3,5,1,2]\n",
    "for i in range(len(a)):\n",
    "    for j in range(len(a)-1-i):\n",
    "        if a[j+1]<a[j]:\n",
    "            a[j],a[j+1]=a[j+1],a[j]\n",
    "print(a)"
   ]
  },
  {
   "cell_type": "code",
   "execution_count": 5,
   "id": "b95e2ffc",
   "metadata": {},
   "outputs": [
    {
     "name": "stdout",
     "output_type": "stream",
     "text": [
      "[1, 2, 3, 4, 5]\n"
     ]
    }
   ],
   "source": [
    "def recurbubblesort(a,i):\n",
    "    if i<len(a):\n",
    "        innerloop(a,0,len(a)-1-i)\n",
    "        recurbubblesort(a,i+1)\n",
    "        \n",
    "def innerloop(a,j,n):\n",
    "    if j<n:\n",
    "        if a[j+1]<a[j]:\n",
    "            a[j+1],a[j]=a[j],a[j+1]\n",
    "        innerloop(a,j+1,n)\n",
    "            \n",
    "a=[4,3,5,1,2]\n",
    "recurbubblesort(a,0)\n",
    "print(a)"
   ]
  },
  {
   "cell_type": "code",
   "execution_count": 8,
   "id": "956dd593",
   "metadata": {},
   "outputs": [
    {
     "name": "stdout",
     "output_type": "stream",
     "text": [
      "[1, 2, 3, 4, 5]\n"
     ]
    }
   ],
   "source": [
    "#insertion sort\n",
    "def insertionsort(a):\n",
    "    for i in range(1,len(a)):\n",
    "        key=a[i]\n",
    "        j=i-1\n",
    "        while j>=0 and key<a[j]:\n",
    "            a[j+1]=a[j]\n",
    "            j-=1\n",
    "        a[j+1]=key\n",
    "\n",
    "a=[4,3,5,1,2]\n",
    "insertionsort(a)\n",
    "print(a)"
   ]
  },
  {
   "cell_type": "code",
   "execution_count": 1,
   "id": "2eb216e1",
   "metadata": {},
   "outputs": [
    {
     "name": "stdout",
     "output_type": "stream",
     "text": [
      "[1, 2, 3, 4, 5]\n"
     ]
    }
   ],
   "source": [
    "def recurinsertsort(a,i):\n",
    "    if i<len(a):\n",
    "        key=a[i]\n",
    "        j=i-1\n",
    "        innerloop(a,j,key)\n",
    "        recurinsertsort(a,i+1)\n",
    "        \n",
    "def innerloop(a,j,key):\n",
    "    if j>=0 and key<a[j]:\n",
    "        a[j+1]=a[j]\n",
    "        innerloop(a,j-1,key)\n",
    "    else:\n",
    "        a[j+1]=key\n",
    "    \n",
    "a=[4,3,5,1,2]\n",
    "recurinsertsort(a,1)\n",
    "print(a)"
   ]
  },
  {
   "cell_type": "code",
   "execution_count": 28,
   "id": "012b4778",
   "metadata": {},
   "outputs": [
    {
     "name": "stdout",
     "output_type": "stream",
     "text": [
      "True\n"
     ]
    }
   ],
   "source": [
    "#Binary Search\n",
    "\n",
    "def binarysearch(a,l,r,x):\n",
    "    while l<=r:\n",
    "        mid=(l+r)//2\n",
    "        if a[mid]==x:\n",
    "            return True\n",
    "        else:\n",
    "            if x>a[mid]:\n",
    "                l=mid+1\n",
    "            else:\n",
    "                r=mid-1\n",
    "    return False\n",
    "\n",
    "a=[1,2,3,4,5]\n",
    "print(binarysearch(a,0,len(a)-1,3))"
   ]
  },
  {
   "cell_type": "code",
   "execution_count": 31,
   "id": "04a32368",
   "metadata": {},
   "outputs": [
    {
     "name": "stdout",
     "output_type": "stream",
     "text": [
      "True\n"
     ]
    }
   ],
   "source": [
    "def recurbinarysearch(a,l,r,x):\n",
    "    if l<=r:\n",
    "        mid=(l+r)//2\n",
    "        if a[mid]==x:\n",
    "            return True\n",
    "        else:\n",
    "            if x>a[mid]:\n",
    "                l=mid+1\n",
    "            else:\n",
    "                r=mid-1\n",
    "        recurbinarysearch(a,l,r,x)\n",
    "    \n",
    "a=[1,2,3,4,5]\n",
    "print(recurbinarysearch(a,0,len(a)-1,3))      "
   ]
  },
  {
   "cell_type": "code",
   "execution_count": null,
   "id": "dfc4eba2",
   "metadata": {},
   "outputs": [],
   "source": []
  }
 ],
 "metadata": {
  "kernelspec": {
   "display_name": "Python 3 (ipykernel)",
   "language": "python",
   "name": "python3"
  },
  "language_info": {
   "codemirror_mode": {
    "name": "ipython",
    "version": 3
   },
   "file_extension": ".py",
   "mimetype": "text/x-python",
   "name": "python",
   "nbconvert_exporter": "python",
   "pygments_lexer": "ipython3",
   "version": "3.9.7"
  }
 },
 "nbformat": 4,
 "nbformat_minor": 5
}
