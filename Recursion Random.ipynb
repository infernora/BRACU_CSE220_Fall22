{
 "cells": [
  {
   "cell_type": "code",
   "execution_count": 1,
   "id": "8c44fb91",
   "metadata": {},
   "outputs": [
    {
     "name": "stdout",
     "output_type": "stream",
     "text": [
      "5\n"
     ]
    }
   ],
   "source": [
    "def lengthOfString(st):\n",
    "    if st==\"\":\n",
    "        return 0\n",
    "    return 1+lengthOfString(st[1:])   # 1+'BCDE'//1+1+'CDE'//...1+1+1+1+1+''//1+1+1+1+1+0\n",
    "\n",
    "print(lengthOfString(\"ABCDE\"))"
   ]
  },
  {
   "cell_type": "code",
   "execution_count": 2,
   "id": "65b6e3d7",
   "metadata": {},
   "outputs": [
    {
     "name": "stdout",
     "output_type": "stream",
     "text": [
      "////// Test 01 //////\n",
      "length: 4\n",
      "sum: 100\n"
     ]
    }
   ],
   "source": [
    "class Node:\n",
    "    def __init__(self, e, n):\n",
    "        self.element = e\n",
    "        self.next = n\n",
    "        \n",
    "class LinkedList:\n",
    "    def __init__(self, a):\n",
    "        self.head = None\n",
    "        if type(a)==list:\n",
    "            self.head=Node(a[0],None)\n",
    "            tail=self.head\n",
    "            for i in range(1,len(a)):\n",
    "                temp=Node(a[i],None)\n",
    "                tail.next=temp           \n",
    "                tail=temp  \n",
    "        else:\n",
    "            self.head=a\n",
    "            \n",
    "    def lengthofLL(self,h):\n",
    "        if h==None:\n",
    "            return 0\n",
    "        return 1+self.lengthofLL(h.next)\n",
    "    \n",
    "    def sumofLL(self,h):\n",
    "        if h==None:\n",
    "            return 0\n",
    "        return h.element+self.sumofLL(h.next)\n",
    "\n",
    "print(\"////// Test 01 //////\")\n",
    "a1 = [10, 20, 30, 40]\n",
    "h1 = LinkedList(a1)\n",
    "print('length:',h1.lengthofLL(h1.head))\n",
    "print('sum:',h1.sumofLL(h1.head))  "
   ]
  },
  {
   "cell_type": "code",
   "execution_count": 14,
   "id": "1de1f724",
   "metadata": {},
   "outputs": [
    {
     "name": "stdout",
     "output_type": "stream",
     "text": [
      "21\n"
     ]
    }
   ],
   "source": [
    "#sum of integers to N\n",
    "def sumtoN(n):\n",
    "    if n==0:\n",
    "        return 0\n",
    "    return n+sumtoN(n-1)\n",
    "\n",
    "print(sumtoN(6))"
   ]
  },
  {
   "cell_type": "code",
   "execution_count": 16,
   "id": "b6e06ce6",
   "metadata": {},
   "outputs": [
    {
     "name": "stdout",
     "output_type": "stream",
     "text": [
      "16\n"
     ]
    }
   ],
   "source": [
    "#exponentian\n",
    "def exponenttoN(a,n): #a to the power n\n",
    "    if n==0:\n",
    "        return 1\n",
    "    return a*exponenttoN(a,n-1)\n",
    "\n",
    "print(exponenttoN(2,4))"
   ]
  },
  {
   "cell_type": "code",
   "execution_count": 18,
   "id": "a8fe7d0f",
   "metadata": {},
   "outputs": [
    {
     "name": "stdout",
     "output_type": "stream",
     "text": [
      "Enter binary string: 1110011\n",
      "115\n"
     ]
    }
   ],
   "source": [
    "#2a)\n",
    "\n",
    "def binaryToDecimal(string,i,decimal):\n",
    "    if len(string)==i:\n",
    "        return decimal\n",
    "    else:\n",
    "        if string[i]=='0':\n",
    "            decimal=2*decimal\n",
    "        else:\n",
    "            decimal=2*decimal+1\n",
    "    return binaryToDecimal(string,i+1,decimal)\n",
    "\n",
    "print(binaryToDecimal(input('Enter binary string: '),0,0))"
   ]
  },
  {
   "cell_type": "code",
   "execution_count": 14,
   "id": "cc2b91c8",
   "metadata": {},
   "outputs": [
    {
     "name": "stdout",
     "output_type": "stream",
     "text": [
      "10,20,30\n",
      "sum: 60\n",
      "reverse: 30 20 10 "
     ]
    }
   ],
   "source": [
    "class Node:\n",
    "    def __init__(self, e, n):\n",
    "        self.element = e\n",
    "        self.next = n\n",
    "        \n",
    "class LinkedList:\n",
    "    def __init__(self, a):\n",
    "        self.head = None\n",
    "        if type(a)==list:\n",
    "            self.head=Node(a[0],None)\n",
    "            tail=self.head\n",
    "            for i in range(1,len(a)):\n",
    "                temp=Node(a[i],None)\n",
    "                tail.next=temp           \n",
    "                tail=temp  \n",
    "        else:\n",
    "            self.head=a\n",
    "#2b)\n",
    "\n",
    "    def sum(self,h):\n",
    "        if h==None:\n",
    "            return 0\n",
    "        return h.element+self.sum(h.next)\n",
    "    \n",
    "#2c)    \n",
    "    def reverse(self,h):\n",
    "        if h==None:\n",
    "            return\n",
    "        self.reverse(h.next)\n",
    "        print(h.element,end=' ')\n",
    "            \n",
    "    \n",
    "    \n",
    "    \n",
    "a1 = [int(i) for i in input().split(',')]\n",
    "h1 = LinkedList(a1)\n",
    "print('sum:',h1.sum(h1.head))\n",
    "print('reverse:',end=' ')\n",
    "h1.reverse(h1.head)"
   ]
  },
  {
   "cell_type": "code",
   "execution_count": null,
   "id": "15a8f575",
   "metadata": {},
   "outputs": [],
   "source": [
    "#when calling methods inside class, do not forget to give head\n",
    "#to print backwards, do recursion first,then use print statement"
   ]
  }
 ],
 "metadata": {
  "kernelspec": {
   "display_name": "Python 3 (ipykernel)",
   "language": "python",
   "name": "python3"
  },
  "language_info": {
   "codemirror_mode": {
    "name": "ipython",
    "version": 3
   },
   "file_extension": ".py",
   "mimetype": "text/x-python",
   "name": "python",
   "nbconvert_exporter": "python",
   "pygments_lexer": "ipython3",
   "version": "3.9.7"
  }
 },
 "nbformat": 4,
 "nbformat_minor": 5
}
