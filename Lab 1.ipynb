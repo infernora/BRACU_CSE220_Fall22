{
 "cells": [
  {
   "cell_type": "code",
   "execution_count": 3,
   "id": "62c57e39",
   "metadata": {},
   "outputs": [
    {
     "name": "stdout",
     "output_type": "stream",
     "text": [
      "[40, 50, 60, 0, 0, 0]\n"
     ]
    }
   ],
   "source": [
    "#1) \n",
    "def shiftLeft(source,k):\n",
    "    j=0\n",
    "    while j<k:\n",
    "        i=0\n",
    "        while i<(len(source)-1):\n",
    "            source[i]=source[i+1]\n",
    "            i+=1\n",
    "        source[len(source)-1]=0\n",
    "        j+=1\n",
    "\n",
    "source=[10,20,30,40,50,60]\n",
    "shiftLeft(source,3)\n",
    "print(source)"
   ]
  },
  {
   "cell_type": "code",
   "execution_count": 12,
   "id": "c48f835c",
   "metadata": {},
   "outputs": [
    {
     "name": "stdout",
     "output_type": "stream",
     "text": [
      "[40, 50, 0, 0, 0, 0]\n"
     ]
    }
   ],
   "source": [
    "def shiftLeft(source,k):\n",
    "    i=0\n",
    "    while i<(len(source)-k):\n",
    "        source[i]=source[i+k]\n",
    "        i+=1\n",
    "        source[len(source)-i]=0    #doesnt work because we lose 60 when we set last value as zero initially\n",
    "        \n",
    "\n",
    "source=[10,20,30,40,50,60]\n",
    "shiftLeft(source,3)\n",
    "print(source)"
   ]
  },
  {
   "cell_type": "code",
   "execution_count": 13,
   "id": "1283470a",
   "metadata": {},
   "outputs": [
    {
     "name": "stdout",
     "output_type": "stream",
     "text": [
      "[40, 50, 60, 10, 20, 30]\n"
     ]
    }
   ],
   "source": [
    "#2)  \n",
    "def rotateLeft(source,k):\n",
    "    j=0\n",
    "    while j<k:\n",
    "        i=0\n",
    "        x=source[0]\n",
    "        while i<(len(source)-1):\n",
    "            source[i]=source[i+1]\n",
    "            i+=1\n",
    "        source[len(source)-1]=x\n",
    "        j+=1\n",
    "\n",
    "source=[10,20,30,40,50,60]\n",
    "rotateLeft(source,3)\n",
    "print(source)"
   ]
  },
  {
   "cell_type": "code",
   "execution_count": 3,
   "id": "7bc3aa14",
   "metadata": {},
   "outputs": [
    {
     "name": "stdout",
     "output_type": "stream",
     "text": [
      "[0, 0, 0, 10, 20, 30]\n"
     ]
    }
   ],
   "source": [
    "#3) \n",
    "def shiftRight(source,k):\n",
    "    j=0\n",
    "    while j<k:\n",
    "        i=len(source)-1\n",
    "        while i>0:\n",
    "            source[i]=source[i-1]\n",
    "            i-=1\n",
    "        source[0]=0\n",
    "        j+=1\n",
    "\n",
    "source=[10,20,30,40,50,60]\n",
    "shiftRight(source,3)\n",
    "print(source)"
   ]
  },
  {
   "cell_type": "code",
   "execution_count": 4,
   "id": "e6abb7a8",
   "metadata": {},
   "outputs": [
    {
     "name": "stdout",
     "output_type": "stream",
     "text": [
      "[40, 50, 60, 10, 20, 30]\n"
     ]
    }
   ],
   "source": [
    "#4)\n",
    "def RotateRight(source,k):\n",
    "    j=0\n",
    "    while j<k:\n",
    "        i=len(source)-1\n",
    "        x=source[len(source)-1]\n",
    "        while i>0:\n",
    "            source[i]=source[i-1]\n",
    "            i-=1\n",
    "        source[0]=x\n",
    "        j+=1\n",
    "\n",
    "                                                 \n",
    "source=[10,20,30,40,50,60]\n",
    "RotateRight(source,3)\n",
    "print(source)"
   ]
  },
  {
   "cell_type": "code",
   "execution_count": 5,
   "id": "61014f89",
   "metadata": {},
   "outputs": [
    {
     "name": "stdout",
     "output_type": "stream",
     "text": [
      "[10, 20, 40, 50, 0, 0, 0]\n"
     ]
    }
   ],
   "source": [
    "#5)\n",
    "def remove(source,size,idx):\n",
    "    i=idx\n",
    "    if idx>=0 and idx<size:\n",
    "        while i<(len(source)-1):\n",
    "            source[i]=source[i+1]\n",
    "            i+=1\n",
    "        source[len(source)-1]=0\n",
    "    else:\n",
    "        print('index is invalid')\n",
    "\n",
    "source=[10,20,30,40,50,0,0]\n",
    "remove(source,5,2)\n",
    "print(source)"
   ]
  },
  {
   "cell_type": "code",
   "execution_count": 6,
   "id": "38493d78",
   "metadata": {},
   "outputs": [
    {
     "name": "stdout",
     "output_type": "stream",
     "text": [
      "[10, 30, 50, 0, 0, 0, 0, 0, 0]\n"
     ]
    }
   ],
   "source": [
    "#6) \n",
    "def removeAll(source, size, element):\n",
    "    j=0\n",
    "    for i in range(size):\n",
    "        if source[i]!=element:\n",
    "            source[i-j]=source[i]\n",
    "            if (i-j)!=i:                 #replacing the two in the code\n",
    "                source[i]=element\n",
    "        else:\n",
    "            j+=1\n",
    "            \n",
    "    for i in range(len(source)-1):\n",
    "        if source[i]==element:\n",
    "            source[i]=0\n",
    "            \n",
    "            \n",
    "source=[10,2,30,2,50,2,2,0,0]\n",
    "removeAll(source,7,2)\n",
    "print(source)"
   ]
  },
  {
   "cell_type": "code",
   "execution_count": 7,
   "id": "9c0fdf03",
   "metadata": {},
   "outputs": [
    {
     "name": "stdout",
     "output_type": "stream",
     "text": [
      "Enter array: 1,1,1,2,1\n",
      "True\n"
     ]
    }
   ],
   "source": [
    "#7) \n",
    "source=[int(i) for i in input('Enter array: ').split(',')]\n",
    "\n",
    "for i in range(len(source)-1):\n",
    "    sum1=0\n",
    "    sum2=0\n",
    "    for j in range(i+1):\n",
    "        sum1+=source[j]\n",
    "    for k in range(i+1,len(source)):\n",
    "        sum2+=source[k]\n",
    "    if sum1==sum2:\n",
    "        flag=True\n",
    "        break\n",
    "    else:\n",
    "        flag=False\n",
    "        \n",
    "print(flag)"
   ]
  },
  {
   "cell_type": "code",
   "execution_count": 8,
   "id": "43153640",
   "metadata": {},
   "outputs": [
    {
     "name": "stdout",
     "output_type": "stream",
     "text": [
      "Enter an integer: 3\n",
      "[0, 0, 1, 0, 2, 1, 3, 2, 1]\n"
     ]
    }
   ],
   "source": [
    "#8) \n",
    "n=int(input('Enter an integer: ')) \n",
    "array=[0]*(n**2)\n",
    "                                     \n",
    "j=1\n",
    "counter=0\n",
    "zero_count=n-j\n",
    "count=j\n",
    "for i in range(len(array)):                   \n",
    "    if counter==n:\n",
    "        j+=1\n",
    "        counter=0\n",
    "        zero_count=n-j\n",
    "        count=j\n",
    "        \n",
    "    if zero_count!=0:\n",
    "        array[i]=0\n",
    "        zero_count-=1\n",
    "    else:\n",
    "        array[i]=count\n",
    "        count-=1\n",
    "        \n",
    "    counter+=1\n",
    "        \n",
    "print(array)"
   ]
  },
  {
   "cell_type": "code",
   "execution_count": 9,
   "id": "0b0d1935",
   "metadata": {},
   "outputs": [
    {
     "name": "stdout",
     "output_type": "stream",
     "text": [
      "Enter array: 1,1,2,2,1,1,1,1\n",
      "4\n"
     ]
    }
   ],
   "source": [
    "#9)\n",
    "source=[int(i) for i in input('Enter array: ').split(',')]\n",
    "\n",
    "largest_count=0\n",
    "count=0\n",
    "for i in range(len(source)-1):\n",
    "    if source[i]==source[i+1]:\n",
    "        count+=1\n",
    "    else:\n",
    "        count=0\n",
    "        \n",
    "    if count>largest_count:\n",
    "        largest_count=count\n",
    "        \n",
    "print(largest_count+1)"
   ]
  },
  {
   "cell_type": "code",
   "execution_count": 10,
   "id": "8daace1a",
   "metadata": {},
   "outputs": [
    {
     "name": "stdout",
     "output_type": "stream",
     "text": [
      "Enter array: 3,4,6,3,4,7,4,6,8,6,6\n",
      "False\n"
     ]
    }
   ],
   "source": [
    "#10)\n",
    "source=[int(i) for i in input('Enter array: ').split(',')]\n",
    "new_arr1=[0]*len(source)\n",
    "new_arr2=[0]*len(source)\n",
    "\n",
    "for i in range(len(source)):\n",
    "    count1=0\n",
    "    for j in range(len(source)): \n",
    "        if source[i]==source[j]:\n",
    "            count1+=1\n",
    "    if source[i] not in new_arr2 and count1>1:\n",
    "        new_arr1[i]=count1\n",
    "        new_arr2[i]=source[i]\n",
    "\n",
    "for i in range(len(new_arr1)):\n",
    "    count2=0\n",
    "    for j in range(len(new_arr1)): \n",
    "        if new_arr1[i]==new_arr1[j] and new_arr1[i]!=0:\n",
    "            count2+=1\n",
    "            \n",
    "    if count2>=2:\n",
    "        flag='True'\n",
    "        break\n",
    "    else:\n",
    "        flag='False'\n",
    "            \n",
    "print(flag)  "
   ]
  },
  {
   "cell_type": "code",
   "execution_count": null,
   "id": "00e1f2be",
   "metadata": {},
   "outputs": [],
   "source": []
  }
 ],
 "metadata": {
  "kernelspec": {
   "display_name": "Python 3 (ipykernel)",
   "language": "python",
   "name": "python3"
  },
  "language_info": {
   "codemirror_mode": {
    "name": "ipython",
    "version": 3
   },
   "file_extension": ".py",
   "mimetype": "text/x-python",
   "name": "python",
   "nbconvert_exporter": "python",
   "pygments_lexer": "ipython3",
   "version": "3.9.7"
  }
 },
 "nbformat": 4,
 "nbformat_minor": 5
}
