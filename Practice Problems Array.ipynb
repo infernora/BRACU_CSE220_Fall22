{
 "cells": [
  {
   "cell_type": "code",
   "execution_count": null,
   "id": "d4537f1f",
   "metadata": {},
   "outputs": [],
   "source": [
    "#Circular Array"
   ]
  },
  {
   "cell_type": "code",
   "execution_count": 11,
   "id": "b5b39cb4",
   "metadata": {},
   "outputs": [
    {
     "name": "stdout",
     "output_type": "stream",
     "text": [
      "Enter a nummber: 3\n",
      "1\n",
      "2\n",
      "1\n",
      "[1, 2, 1]\n",
      "2 -1 2 "
     ]
    }
   ],
   "source": [
    "#1)\n",
    "\n",
    "N=int(input('Enter a nummber: '))\n",
    "A=[0]*N\n",
    "st=0\n",
    "sz=N\n",
    "\n",
    "for i in range(len(A)):\n",
    "    inp=int(input())\n",
    "    A[i]=inp\n",
    "print(A)\n",
    "\n",
    "i=st\n",
    "count1=0\n",
    "\n",
    "while count1<sz:\n",
    "    count2=0\n",
    "    opt=-1\n",
    "    j=i+1\n",
    "    if j>=len(A):\n",
    "        j=0\n",
    "    while count2<sz-1:\n",
    "        if A[j]-A[i]==1:\n",
    "            #print(A[j])\n",
    "            opt=A[j]\n",
    "            break\n",
    "        else:\n",
    "            j+=1\n",
    "            if j>=len(A):\n",
    "                j=0\n",
    "            opt=-1\n",
    "        count2+=1\n",
    "    print(opt,end=' ')    \n",
    "    i+=1\n",
    "    if i>=len(A):\n",
    "        i=0\n",
    "    count1+=1"
   ]
  },
  {
   "cell_type": "code",
   "execution_count": 13,
   "id": "81b0d6cf",
   "metadata": {},
   "outputs": [
    {
     "name": "stdout",
     "output_type": "stream",
     "text": [
      "6 -1 5 5 6 "
     ]
    }
   ],
   "source": [
    "#2) #out= [ 6, -1, 5, 5, 6 ]\n",
    "\n",
    "\n",
    "A= [ 1, 6, 4, 3, 5 ]\n",
    "sz=5\n",
    "st=0\n",
    "\n",
    "i=st\n",
    "count1=0\n",
    "\n",
    "while count1<sz:\n",
    "    count2=0\n",
    "    opt=-1\n",
    "    j=i+1\n",
    "    if j>=len(A):\n",
    "        j=0\n",
    "    while count2<sz-1:\n",
    "        if A[j]>A[i]:\n",
    "            opt=A[j]\n",
    "            break\n",
    "        else:\n",
    "            j+=1\n",
    "            if j>=len(A):\n",
    "                j=0\n",
    "            opt=-1\n",
    "        count2+=1\n",
    "    print(opt,end=' ')    \n",
    "    i+=1\n",
    "    if i>=len(A):\n",
    "        i=0\n",
    "    count1+=1   #count=1,i=1\n"
   ]
  },
  {
   "cell_type": "code",
   "execution_count": null,
   "id": "7372f643",
   "metadata": {},
   "outputs": [],
   "source": []
  }
 ],
 "metadata": {
  "kernelspec": {
   "display_name": "Python 3 (ipykernel)",
   "language": "python",
   "name": "python3"
  },
  "language_info": {
   "codemirror_mode": {
    "name": "ipython",
    "version": 3
   },
   "file_extension": ".py",
   "mimetype": "text/x-python",
   "name": "python",
   "nbconvert_exporter": "python",
   "pygments_lexer": "ipython3",
   "version": "3.9.7"
  }
 },
 "nbformat": 4,
 "nbformat_minor": 5
}
