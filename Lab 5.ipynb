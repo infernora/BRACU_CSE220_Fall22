{
 "cells": [
  {
   "cell_type": "code",
   "execution_count": 1,
   "id": "09653ece",
   "metadata": {},
   "outputs": [
    {
     "name": "stdout",
     "output_type": "stream",
     "text": [
      "(1+2)-1+(\n",
      "This expression is NOT correct\n",
      "Error at character #9. '('- not closed.\n"
     ]
    }
   ],
   "source": [
    "class Stack_Arr:\n",
    "    def __init__(self,count):\n",
    "        self.top=-1\n",
    "        self.stack=[0]*count\n",
    "        \n",
    "    def push(self,elem):\n",
    "        self.top+=1\n",
    "        self.stack[self.top]=elem\n",
    "    \n",
    "    def pop(self):\n",
    "        self.stack[self.top]=0\n",
    "        self.top-=1\n",
    "\n",
    "def check():\n",
    "    op_dict={'(':0,'{':0,'[':0}\n",
    "    for i in range(len(a)):\n",
    "        if a[i] in op_lis:\n",
    "            st.push(a[i])\n",
    "            op_dict[a[i]]=i\n",
    "        if a[i] in cl_lis:\n",
    "            if st.stack[st.top]==\"(\" and a[i]==\")\":\n",
    "                st.pop()\n",
    "            elif st.stack[st.top]==\"{\" and a[i]==\"}\":\n",
    "                st.pop()\n",
    "            elif st.stack[st.top]==\"[\" and a[i]==\"]\":\n",
    "                st.pop()\n",
    "            elif st.top==-1:\n",
    "                return f\"This expression is NOT correct\\nError at character #{i+1}. '{a[i]}'- not opened\"\n",
    "            else:\n",
    "                return f\"This expression is NOT correct\\nError at character #{op_dict[st.stack[st.top]]+1}. '{st.stack[st.top]}'- not closed.\"\n",
    "    if st.top!=-1:\n",
    "        return f\"This expression is NOT correct\\nError at character #{i+1}. '{st.stack[st.top]}'- not closed.\"\n",
    "    else:\n",
    "        return f\"This expression is correct\"\n",
    "    \n",
    "op_lis=['(','{','[',]\n",
    "cl_lis=[')','}',']']\n",
    "\n",
    "a=input()    \n",
    "st=Stack_Arr(len(a))\n",
    "print(check())"
   ]
  },
  {
   "cell_type": "code",
   "execution_count": 2,
   "id": "4d50c1ef",
   "metadata": {},
   "outputs": [
    {
     "name": "stdout",
     "output_type": "stream",
     "text": [
      "[{!1+2)-3}\n",
      "This expression is NOT correct\n",
      "Error at character #2. '{'- not closed.\n"
     ]
    }
   ],
   "source": [
    "class Node:\n",
    "    def __init__(self, e, n):\n",
    "        self.elem = e\n",
    "        self.next = n\n",
    "        \n",
    "class Stack_List:\n",
    "    def __init__(self):\n",
    "        self.head=None\n",
    "        self.top=-1\n",
    "    \n",
    "    def push(self,n):\n",
    "        if self.head==None:\n",
    "            self.head=Node(n,None)\n",
    "        else:\n",
    "            tail=self.head\n",
    "            self.head=Node(n,None)\n",
    "            self.head.next=tail\n",
    "        self.top+=1\n",
    "    \n",
    "    def pop(self):\n",
    "        temp=self.head\n",
    "        self.head=self.head.next\n",
    "        temp=None\n",
    "        self.top-=1\n",
    "        \n",
    "def check():\n",
    "    op_dict={'(':0,'{':0,'[':0}\n",
    "    for i in range(len(b)):\n",
    "        if b[i] in op_lis:\n",
    "            listack.push(b[i])\n",
    "            op_dict[b[i]]=i\n",
    "        if b[i] in cl_lis:\n",
    "            if listack.head.elem==\"(\" and b[i]==\")\":\n",
    "                listack.pop()\n",
    "            elif listack.head.elem==\"{\" and b[i]==\"}\":\n",
    "                listack.pop()\n",
    "            elif listack.head.elem==\"[\" and b[i]==\"]\":\n",
    "                listack.pop()\n",
    "            elif listack.top==-1:\n",
    "                return f\"This expression is NOT correct\\nError at character #{i+1}. '{b[i]}'- not opened\"\n",
    "            else:\n",
    "                return f\"This expression is NOT correct\\nError at character #{op_dict[listack.head.elem]+1}. '{listack.head.elem}'- not closed.\"\n",
    "    if listack.top!=-1:\n",
    "        return f\"This expression is NOT correct\\nError at character #{i+1}. '{listack.head.elem}'- not closed.\"\n",
    "    else:\n",
    "        return f\"This expression is correct\"\n",
    "    \n",
    "op_lis=['(','{','[',]\n",
    "cl_lis=[')','}',']']\n",
    "\n",
    "b=input()    \n",
    "listack=Stack_List()\n",
    "print(check())       "
   ]
  },
  {
   "cell_type": "code",
   "execution_count": null,
   "id": "e9a070e9",
   "metadata": {},
   "outputs": [],
   "source": []
  }
 ],
 "metadata": {
  "kernelspec": {
   "display_name": "Python 3 (ipykernel)",
   "language": "python",
   "name": "python3"
  },
  "language_info": {
   "codemirror_mode": {
    "name": "ipython",
    "version": 3
   },
   "file_extension": ".py",
   "mimetype": "text/x-python",
   "name": "python",
   "nbconvert_exporter": "python",
   "pygments_lexer": "ipython3",
   "version": "3.9.7"
  }
 },
 "nbformat": 4,
 "nbformat_minor": 5
}
