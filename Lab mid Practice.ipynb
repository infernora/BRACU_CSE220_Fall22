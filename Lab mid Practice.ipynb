{
 "cells": [
  {
   "cell_type": "code",
   "execution_count": 1,
   "id": "765e7308",
   "metadata": {},
   "outputs": [
    {
     "name": "stdout",
     "output_type": "stream",
     "text": [
      "10 20 30 40 50 60 70 80 \n",
      "8\n",
      "ok\n",
      "50 60 70 80 10 20 30 40 \n"
     ]
    }
   ],
   "source": [
    "class Node:\n",
    "    def __init__(self,e,n):\n",
    "        self.elem=e\n",
    "        self.next=n\n",
    "        \n",
    "class LinkedList:\n",
    "    def __init__(self,a):\n",
    "        self.head=None\n",
    "        if type(a)==list:\n",
    "            self.head=Node(None,None)\n",
    "            tail=self.head\n",
    "            for i in range(len(a)):\n",
    "                n=Node(a[i],None)\n",
    "                tail.next=n\n",
    "                tail=n\n",
    "            tail.next=self.head\n",
    "        else:\n",
    "            self.head=a\n",
    "            \n",
    "    def print(self):\n",
    "        h=self.head.next\n",
    "        while h!=self.head:\n",
    "            print(h.elem,end=' ')\n",
    "            h=h.next               \n",
    "        print()\n",
    "        \n",
    "    def countnode(self):\n",
    "        h=self.head.next\n",
    "        count=1\n",
    "        while h.next!=self.head: #till last node\n",
    "            h=h.next\n",
    "            count+=1\n",
    "        return count\n",
    "    \n",
    "    def halfreverse(self):\n",
    "        half=(self.countnode())//2  #8\n",
    "        count=0\n",
    "        tail=self.head.next\n",
    "        h=self.head.next\n",
    "        n=self.head.next\n",
    "        while count<half:\n",
    "            tail=tail.next\n",
    "            count+=1\n",
    "        count=0\n",
    "        while count<(half-1):\n",
    "            n=n.next\n",
    "            count+=1\n",
    "        while h.next!=self.head:\n",
    "            h=h.next\n",
    "        n.next=self.head\n",
    "        h.next=self.head.next\n",
    "        self.head.next=tail\n",
    "        print('ok')\n",
    "        \n",
    "               \n",
    "a=[10,20,30,40,50,60,70,80]\n",
    "l=LinkedList(a)\n",
    "l.print()\n",
    "print(l.countnode())\n",
    "l.halfreverse()\n",
    "l.print()"
   ]
  },
  {
   "cell_type": "code",
   "execution_count": null,
   "id": "6dad93dd",
   "metadata": {},
   "outputs": [],
   "source": []
  }
 ],
 "metadata": {
  "kernelspec": {
   "display_name": "Python 3 (ipykernel)",
   "language": "python",
   "name": "python3"
  },
  "language_info": {
   "codemirror_mode": {
    "name": "ipython",
    "version": 3
   },
   "file_extension": ".py",
   "mimetype": "text/x-python",
   "name": "python",
   "nbconvert_exporter": "python",
   "pygments_lexer": "ipython3",
   "version": "3.9.7"
  }
 },
 "nbformat": 4,
 "nbformat_minor": 5
}
