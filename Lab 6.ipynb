{
 "cells": [
  {
   "cell_type": "code",
   "execution_count": 11,
   "id": "4c03e9a1",
   "metadata": {},
   "outputs": [
    {
     "name": "stdout",
     "output_type": "stream",
     "text": [
      "n: 5\n",
      "120\n"
     ]
    }
   ],
   "source": [
    "#1a)\n",
    "\n",
    "def factorial(n):\n",
    "    if n == 1:\n",
    "        return n\n",
    "    else:\n",
    "        return n*factorial(n-1)  \n",
    "\n",
    "n=int(input(\"n: \"))\n",
    "if n>0:\n",
    "    print(factorial(n))"
   ]
  },
  {
   "cell_type": "code",
   "execution_count": 16,
   "id": "7cc0527d",
   "metadata": {},
   "outputs": [
    {
     "name": "stdout",
     "output_type": "stream",
     "text": [
      "n: 5\n",
      "8\n"
     ]
    }
   ],
   "source": [
    "#1b)\n",
    "\n",
    "def fibonacci(n):\n",
    "    if n<=1:           \n",
    "        return 1\n",
    "    else:\n",
    "        return fibonacci(n-1)+fibonacci(n-2)\n",
    "\n",
    "n=int(input(\"n: \"))\n",
    "if n>=0:\n",
    "    print(fibonacci(n))"
   ]
  },
  {
   "cell_type": "code",
   "execution_count": 17,
   "id": "c0764115",
   "metadata": {},
   "outputs": [
    {
     "name": "stdout",
     "output_type": "stream",
     "text": [
      "1,2,3,4,5\n",
      "1\n",
      "2\n",
      "3\n",
      "4\n",
      "5\n"
     ]
    }
   ],
   "source": [
    "#1c)\n",
    "\n",
    "def array(A,i):\n",
    "    if i<len(A):\n",
    "        print(A[i])\n",
    "        array(A,i+1)\n",
    "\n",
    "A=[int(i) for i in input().split(',')]\n",
    "array(A,0)    "
   ]
  },
  {
   "cell_type": "code",
   "execution_count": 19,
   "id": "9fdd814c",
   "metadata": {},
   "outputs": [
    {
     "name": "stdout",
     "output_type": "stream",
     "text": [
      "Enter number: 2\n",
      "Enter power: 3\n",
      "8\n"
     ]
    }
   ],
   "source": [
    "#1d)\n",
    "\n",
    "def powerN(num,pow):\n",
    "    if pow==0:\n",
    "        return 1\n",
    "    return num*powerN(num,pow-1)\n",
    "\n",
    "num=int(input('Enter number: '))\n",
    "pow=int(input('Enter power: '))\n",
    "print(powerN(num,pow))"
   ]
  },
  {
   "cell_type": "code",
   "execution_count": 20,
   "id": "bb536150",
   "metadata": {},
   "outputs": [
    {
     "name": "stdout",
     "output_type": "stream",
     "text": [
      "Enter binary string: 1101\n",
      "13\n"
     ]
    }
   ],
   "source": [
    "#2a)\n",
    "\n",
    "def binaryToDecimal(string,i,decimal):\n",
    "    if len(string)==i:\n",
    "        return decimal\n",
    "    else:\n",
    "        if string[i]=='0':\n",
    "            decimal=2*decimal\n",
    "        else:\n",
    "            decimal=2*decimal+1\n",
    "    return binaryToDecimal(string,i+1,decimal)\n",
    "\n",
    "print(binaryToDecimal(input('Enter binary string: '),0,0))"
   ]
  },
  {
   "cell_type": "code",
   "execution_count": 21,
   "id": "bde557d1",
   "metadata": {},
   "outputs": [
    {
     "name": "stdout",
     "output_type": "stream",
     "text": [
      "10,20,30,40,50\n",
      "sum: 150\n",
      "reverse: 50 40 30 20 10 "
     ]
    }
   ],
   "source": [
    "class Node:\n",
    "    def __init__(self, e, n):\n",
    "        self.element = e\n",
    "        self.next = n\n",
    "        \n",
    "class LinkedList:\n",
    "    def __init__(self, a):\n",
    "        self.head = None\n",
    "        if type(a)==list:\n",
    "            self.head=Node(a[0],None)\n",
    "            tail=self.head\n",
    "            for i in range(1,len(a)):\n",
    "                temp=Node(a[i],None)\n",
    "                tail.next=temp           \n",
    "                tail=temp  \n",
    "        else:\n",
    "            self.head=a\n",
    "#2b)\n",
    "\n",
    "    def sum(self,h):\n",
    "        if h==None:\n",
    "            return 0\n",
    "        return h.element+self.sum(h.next)\n",
    "    \n",
    "#2c)    \n",
    "    def reverse(self,h):\n",
    "        if h==None:\n",
    "            return\n",
    "        self.reverse(h.next)\n",
    "        print(h.element,end=' ')\n",
    "            \n",
    "    \n",
    "    \n",
    "    \n",
    "a1 = [int(i) for i in input().split(',')]\n",
    "h1 = LinkedList(a1)\n",
    "print('sum:',h1.sum(h1.head))\n",
    "print('reverse:',end=' ')\n",
    "h1.reverse(h1.head)"
   ]
  },
  {
   "cell_type": "code",
   "execution_count": 28,
   "id": "c5eb4dbb",
   "metadata": {},
   "outputs": [
    {
     "name": "stdout",
     "output_type": "stream",
     "text": [
      "Number of floors: 3\n",
      "18\n"
     ]
    }
   ],
   "source": [
    "#3)\n",
    "def hocbuilder(height):\n",
    "    if height==0:\n",
    "        return 0\n",
    "    if height==1:\n",
    "        return 8\n",
    "    else:\n",
    "        return 5+hocbuilder(height-1)\n",
    "\n",
    "print(hocbuilder(int(input('Number of floors: '))))"
   ]
  },
  {
   "cell_type": "code",
   "execution_count": 7,
   "id": "06a65291",
   "metadata": {},
   "outputs": [
    {
     "name": "stdout",
     "output_type": "stream",
     "text": [
      "n:4\n",
      "1\n",
      "12\n",
      "123\n",
      "1234\n"
     ]
    }
   ],
   "source": [
    "#4a)\n",
    "\n",
    "def column(i):\n",
    "    if i==0:\n",
    "        return\n",
    "    column(i-1)\n",
    "    print(i, end='')\n",
    "\n",
    "def row(n,i):\n",
    "    if n==0:\n",
    "        return\n",
    "    column(i)\n",
    "    print(\"\\n\", end='')\n",
    "    row(n-1,i+1)\n",
    "\n",
    "n = int(input('n:'))\n",
    "row(n, 1)\n",
    "    "
   ]
  },
  {
   "cell_type": "code",
   "execution_count": 6,
   "id": "c4283d74",
   "metadata": {},
   "outputs": [
    {
     "name": "stdout",
     "output_type": "stream",
     "text": [
      "n:5\n",
      "    1\n",
      "   12\n",
      "  123\n",
      " 1234\n",
      "12345\n"
     ]
    }
   ],
   "source": [
    "#4a)\n",
    "def column(i):\n",
    "    if i==0:\n",
    "        return\n",
    "    column(i-1)\n",
    "    print(i, end='')\n",
    "\n",
    "def space(j):\n",
    "    if j==0:\n",
    "        return\n",
    "    print(' ',end='')\n",
    "    space(j-1)\n",
    "\n",
    "def row(n,i,j):\n",
    "    if n==0:\n",
    "        return\n",
    "    space(j)\n",
    "    column(i)\n",
    "    print(\"\\n\", end='')\n",
    "    row(n-1,i+1,j-1)\n",
    "    \n",
    "\n",
    "n = int(input('n:'))\n",
    "row(n,1,n-1)"
   ]
  },
  {
   "cell_type": "code",
   "execution_count": 1,
   "id": "42530bd7",
   "metadata": {},
   "outputs": [
    {
     "name": "stdout",
     "output_type": "stream",
     "text": [
      "Investment: 25000; Profit: 0.0\n",
      "\n",
      "Investment: 100000; Profit: 3375.0\n",
      "\n",
      "Investment: 250000; Profit: 15375.0\n",
      "\n",
      "Investment: 308000; Profit: 20015.0\n",
      "\n"
     ]
    }
   ],
   "source": [
    "#5)\n",
    "class FinalQ: \n",
    "    def print(self,array,idx): \n",
    "        if(idx<len(array)): \n",
    "            profit = self.calcProfit(array[idx]) \n",
    "            print(f'Investment: {array[idx]}; Profit: {float(profit)}\\n')\n",
    "            self.print(array,idx+1)\n",
    "  \n",
    "    def calcProfit(self,investment): \n",
    "        if investment==25000:\n",
    "            return 0\n",
    "        elif investment<=100000:\n",
    "            return 4.5+self.calcProfit(investment-100)\n",
    "        else:\n",
    "            return 8+self.calcProfit(investment-100) \n",
    "\n",
    "#Tester \n",
    "array=[25000,100000,250000,308000]  \n",
    "f = FinalQ() \n",
    "f.print(array,0)"
   ]
  },
  {
   "cell_type": "code",
   "execution_count": null,
   "id": "af6e2096",
   "metadata": {},
   "outputs": [],
   "source": []
  }
 ],
 "metadata": {
  "kernelspec": {
   "display_name": "Python 3 (ipykernel)",
   "language": "python",
   "name": "python3"
  },
  "language_info": {
   "codemirror_mode": {
    "name": "ipython",
    "version": 3
   },
   "file_extension": ".py",
   "mimetype": "text/x-python",
   "name": "python",
   "nbconvert_exporter": "python",
   "pygments_lexer": "ipython3",
   "version": "3.9.7"
  }
 },
 "nbformat": 4,
 "nbformat_minor": 5
}
