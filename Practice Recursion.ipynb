{
 "cells": [
  {
   "cell_type": "markdown",
   "id": "563a8305",
   "metadata": {},
   "source": [
    "#### recursion-essentially loop without for and while\n",
    "#rememeber to set a base case first\n"
   ]
  },
  {
   "cell_type": "code",
   "execution_count": null,
   "id": "158fb84c",
   "metadata": {},
   "outputs": [],
   "source": [
    "#PRACTICE SHEET"
   ]
  },
  {
   "cell_type": "code",
   "execution_count": 8,
   "id": "7a068dbf",
   "metadata": {},
   "outputs": [
    {
     "name": "stdout",
     "output_type": "stream",
     "text": [
      "9\n",
      "13\n",
      "3\n"
     ]
    }
   ],
   "source": [
    "#1)\n",
    "def sumDigits(n):\n",
    "    if n==0:\n",
    "        return 0\n",
    "    return n%10+sumDigits(n//10)            #DONT FORGET TO RETURN\n",
    "        \n",
    "print(sumDigits(126))\n",
    "print(sumDigits(49))\n",
    "print(sumDigits(12))       "
   ]
  },
  {
   "cell_type": "code",
   "execution_count": 11,
   "id": "e3e42d24",
   "metadata": {},
   "outputs": [
    {
     "name": "stdout",
     "output_type": "stream",
     "text": [
      "0\n",
      "2\n",
      "5\n"
     ]
    }
   ],
   "source": [
    "#2)\n",
    "def bunnyEars(n):\n",
    "    if n==0:\n",
    "        return 0\n",
    "    elif n%2==0:\n",
    "        return 3+bunnyEars(n-1)\n",
    "    else:\n",
    "        return 2+bunnyEars(n-1)\n",
    "    \n",
    "print(bunnyEars(0))\n",
    "print(bunnyEars(1))\n",
    "print(bunnyEars(2))"
   ]
  },
  {
   "cell_type": "code",
   "execution_count": 15,
   "id": "cf3aa078",
   "metadata": {},
   "outputs": [
    {
     "name": "stdout",
     "output_type": "stream",
     "text": [
      "2\n",
      "1\n",
      "0\n"
     ]
    }
   ],
   "source": [
    "#3)\n",
    "def count7(n):\n",
    "    if n%10==0:\n",
    "        return 0\n",
    "    elif n%10==7:\n",
    "        return 1+count7(n//10)\n",
    "    else:\n",
    "        return count7(n//10)\n",
    "\n",
    "print(count7(717))\n",
    "print(count7(7))\n",
    "print(count7(123))\n"
   ]
  },
  {
   "cell_type": "code",
   "execution_count": 19,
   "id": "9086ae25",
   "metadata": {},
   "outputs": [
    {
     "name": "stdout",
     "output_type": "stream",
     "text": [
      "4\n",
      "3\n",
      "0\n"
     ]
    }
   ],
   "source": [
    "#4)\n",
    "def countX(str1):\n",
    "    if str1==\"\":\n",
    "        return 0\n",
    "    elif str1[0]=='x':\n",
    "        return 1+countX(str1[1:])\n",
    "    else:\n",
    "        return countX(str1[1:])\n",
    "    \n",
    "print(countX(\"xxhixx\"))\n",
    "print(countX(\"xhixhix\"))\n",
    "print(countX(\"hi\"))"
   ]
  },
  {
   "cell_type": "code",
   "execution_count": 21,
   "id": "fa4bd865",
   "metadata": {},
   "outputs": [
    {
     "name": "stdout",
     "output_type": "stream",
     "text": [
      "x3.14x\n",
      "3.143.14\n",
      "3.14p\n"
     ]
    }
   ],
   "source": [
    "#5)\n",
    "def changePi(str1):\n",
    "    if str1=='':\n",
    "        return ''\n",
    "    elif str1[:2]=='pi':\n",
    "        return '3.14'+changePi(str1[2:])\n",
    "    else:\n",
    "        return str1[0]+changePi(str1[1:])\n",
    "    \n",
    "print(changePi(\"xpix\"))\n",
    "print(changePi(\"pipi\"))\n",
    "print(changePi(\"pip\"))  "
   ]
  },
  {
   "cell_type": "code",
   "execution_count": 24,
   "id": "8637e2b4",
   "metadata": {},
   "outputs": [
    {
     "name": "stdout",
     "output_type": "stream",
     "text": [
      "1\n",
      "2\n",
      "3\n",
      "4\n",
      "5\n",
      "5\n",
      "4\n",
      "3\n",
      "2\n",
      "1\n"
     ]
    }
   ],
   "source": [
    "#forward and backward traveral of array\n",
    "def forward(A,i):\n",
    "    if i<len(A):\n",
    "        print(A[i])\n",
    "        forward(A,i+1)\n",
    "        \n",
    "def backward(A,i):\n",
    "    if i<len(A):\n",
    "        backward(A,i+1)\n",
    "        print(A[i])\n",
    "\n",
    "A=[1,2,3,4,5]\n",
    "forward(A,0)\n",
    "backward(A,0)"
   ]
  },
  {
   "cell_type": "code",
   "execution_count": 32,
   "id": "9ff169c2",
   "metadata": {},
   "outputs": [
    {
     "name": "stdout",
     "output_type": "stream",
     "text": [
      "1\n",
      "2\n",
      "0\n"
     ]
    }
   ],
   "source": [
    "#6)\n",
    "def array11(A,i):\n",
    "    if i==len(A):\n",
    "        return 0\n",
    "    elif A[i]==11:\n",
    "        return 1+array11(A,i+1)\n",
    "    else:\n",
    "        return array11(A,i+1)\n",
    "\n",
    "print(array11([1, 2, 11], 0))\n",
    "print(array11([11, 11], 0))\n",
    "print(array11([1, 2, 3, 4], 0))"
   ]
  },
  {
   "cell_type": "code",
   "execution_count": 35,
   "id": "89b61318",
   "metadata": {},
   "outputs": [
    {
     "name": "stdout",
     "output_type": "stream",
     "text": [
      "hel*lo\n",
      "x*xy*y\n",
      "a*a*a*a\n"
     ]
    }
   ],
   "source": [
    "#7)\n",
    "def pairStar(str1):\n",
    "    if len(str1)==1:\n",
    "        return str1\n",
    "    elif str1[0]==str1[1]:\n",
    "        return str1[0]+'*'+pairStar(str1[1:])\n",
    "    else:\n",
    "        return str1[0]+pairStar(str1[1:])\n",
    "    \n",
    "\n",
    "print(pairStar(\"hello\"))\n",
    "print(pairStar(\"xxyy\"))\n",
    "print(pairStar(\"aaaa\"))"
   ]
  },
  {
   "cell_type": "code",
   "execution_count": 36,
   "id": "0b2f44fc",
   "metadata": {},
   "outputs": [
    {
     "name": "stdout",
     "output_type": "stream",
     "text": [
      "1\n",
      "2\n",
      "2\n"
     ]
    }
   ],
   "source": [
    "#8)\n",
    "def countAbc(str1):\n",
    "    if len(str1)==2:\n",
    "        return 0\n",
    "    elif str1[:3]=='abc' or str1[:3]=='aba':\n",
    "        return 1+countAbc(str1[1:])\n",
    "    else:\n",
    "        return countAbc(str1[1:])\n",
    "\n",
    "print(countAbc(\"abc\"))\n",
    "print(countAbc(\"abcxxabc\"))\n",
    "print(countAbc(\"abaxxaba\"))"
   ]
  },
  {
   "cell_type": "code",
   "execution_count": 38,
   "id": "08fb15a6",
   "metadata": {},
   "outputs": [
    {
     "name": "stdout",
     "output_type": "stream",
     "text": [
      "1\n",
      "2\n",
      "0\n"
     ]
    }
   ],
   "source": [
    "#9)\n",
    "def countHi2(str1):\n",
    "    if len(str1)==1:\n",
    "        return 0\n",
    "    elif str1[0]!='x' and str1[1:3]=='hi':\n",
    "        return 1+countHi2(str1[1:])\n",
    "    else:\n",
    "        return countHi2(str1[1:])\n",
    "\n",
    "print(countHi2(\"ahixhi\"))\n",
    "print(countHi2(\"ahibhi\"))\n",
    "print(countHi2(\"xhixhi\"))"
   ]
  },
  {
   "cell_type": "code",
   "execution_count": 16,
   "id": "4776e089",
   "metadata": {},
   "outputs": [
    {
     "name": "stdout",
     "output_type": "stream",
     "text": [
      "2\n",
      "1\n",
      "0\n",
      "2\n"
     ]
    }
   ],
   "source": [
    "#10)\n",
    "def strCount(str1,item):\n",
    "    n=len(item)\n",
    "    if str1==\"\":\n",
    "        return 0\n",
    "    elif str1[:n]==item:\n",
    "        return 1+strCount(str1[1:],item)\n",
    "    else:\n",
    "        return strCount(str1[1:],item)\n",
    "\n",
    "print(strCount(\"catcowcat\", \"cat\"))\n",
    "print(strCount(\"catcowcat\", \"cow\"))\n",
    "print(strCount(\"catcowcat\", \"dog\"))\n",
    "print(strCount(\"catcat\", \"cat\"))"
   ]
  },
  {
   "cell_type": "code",
   "execution_count": 17,
   "id": "5044349f",
   "metadata": {},
   "outputs": [
    {
     "name": "stdout",
     "output_type": "stream",
     "text": [
      "0\n",
      "2\n",
      "4\n"
     ]
    }
   ],
   "source": [
    "#11)\n",
    "\n",
    "def bunnyEars(n):\n",
    "    if n==0:\n",
    "        return 0\n",
    "    else:\n",
    "        return 2+bunnyEars(n-1)\n",
    "    \n",
    "print(bunnyEars(0))\n",
    "print(bunnyEars(1))\n",
    "print(bunnyEars(2))"
   ]
  },
  {
   "cell_type": "code",
   "execution_count": 40,
   "id": "bd092055",
   "metadata": {},
   "outputs": [
    {
     "name": "stdout",
     "output_type": "stream",
     "text": [
      "0\n",
      "1\n",
      "3\n",
      "6\n"
     ]
    }
   ],
   "source": [
    "#12)\n",
    "\n",
    "def triangle(row):\n",
    "    if row==0:\n",
    "        return 0\n",
    "    else:\n",
    "        return row+triangle(row-1)\n",
    "    \n",
    "print(triangle(0))\n",
    "print(triangle(1))\n",
    "print(triangle(2))\n",
    "print(triangle(3))"
   ]
  },
  {
   "cell_type": "code",
   "execution_count": 46,
   "id": "4311f34c",
   "metadata": {},
   "outputs": [
    {
     "name": "stdout",
     "output_type": "stream",
     "text": [
      "ab\n",
      "abc\n",
      "\n"
     ]
    }
   ],
   "source": [
    "#13)\n",
    "def noX(str1):\n",
    "    if str1==\"\":\n",
    "        return ''\n",
    "    elif str1[0]=='x':\n",
    "        return noX(str1[1:])\n",
    "    elif str1[0]!='x':\n",
    "        return str1[0]+noX(str1[1:])\n",
    "\n",
    "\n",
    "print(noX(\"xaxb\"))\n",
    "print(noX(\"abc\"))\n",
    "print(noX(\"xx\"))\n"
   ]
  },
  {
   "cell_type": "code",
   "execution_count": 36,
   "id": "5ed1ce37",
   "metadata": {},
   "outputs": [
    {
     "name": "stdout",
     "output_type": "stream",
     "text": [
      "True\n",
      "True\n",
      "False\n"
     ]
    }
   ],
   "source": [
    "#14)\n",
    "\n",
    "def array220(a,i):\n",
    "    if i==(len(a)-1):\n",
    "        return False\n",
    "    else:\n",
    "        if a[i]*10==a[i+1]:\n",
    "            return True\n",
    "        else:\n",
    "            return array220(a,i+1)\n",
    "\n",
    "\n",
    "print(array220([1, 2, 20], 0))\n",
    "print(array220([3, 30], 0))\n",
    "print(array220([3], 0))"
   ]
  },
  {
   "cell_type": "code",
   "execution_count": 40,
   "id": "b7b441ef",
   "metadata": {},
   "outputs": [
    {
     "name": "stdout",
     "output_type": "stream",
     "text": [
      "rexx\n",
      "hixxxx\n",
      "hihixxx\n"
     ]
    }
   ],
   "source": [
    "#15)\n",
    "\n",
    "def endX(str1):\n",
    "    if str1=='':\n",
    "        return \"\"\n",
    "    elif str1[0]=='x':\n",
    "        return endX(str1[1:])+'x'\n",
    "    else:\n",
    "        return str1[0]+endX(str1[1:])   \n",
    "\n",
    "\n",
    "print(endX(\"xxre\"))\n",
    "print(endX(\"xxhixx\"))\n",
    "print(endX(\"xhixhix\"))"
   ]
  },
  {
   "cell_type": "code",
   "execution_count": 29,
   "id": "77be6105",
   "metadata": {},
   "outputs": [
    {
     "name": "stdout",
     "output_type": "stream",
     "text": [
      "2\n",
      "3\n",
      "1\n"
     ]
    }
   ],
   "source": [
    "#16)\n",
    "\n",
    "def count11(str1):\n",
    "    if str1==\"\":\n",
    "        return 0\n",
    "    else:\n",
    "        if str1[:2]=='11':\n",
    "            return 1+count11(str1[2:])\n",
    "        else:\n",
    "            return count11(str1[1:])\n",
    "\n",
    "print(count11(\"11abc11\"))\n",
    "print(count11(\"abc11x11x11\"))\n",
    "print(count11(\"111\"))"
   ]
  },
  {
   "cell_type": "code",
   "execution_count": 72,
   "id": "8f38df00",
   "metadata": {},
   "outputs": [
    {
     "name": "stdout",
     "output_type": "stream",
     "text": [
      "(abc)\n",
      "(hello)\n",
      "(xy)\n"
     ]
    }
   ],
   "source": [
    "#17)                                    \n",
    "\n",
    "def parenBit(str1):\n",
    "    if str1[0]==\"(\":\n",
    "        if str1[len(str1)-1]==\")\":\n",
    "            return str1\n",
    "        else:\n",
    "            return parenBit(str1[:len(str1)-1])\n",
    "    else:\n",
    "        return parenBit(str1[1:])\n",
    "\n",
    "print(parenBit(\"xyz(abc)123\"))\n",
    "print(parenBit(\"x(hello)\"))\n",
    "print(parenBit(\"(xy)1\"))"
   ]
  },
  {
   "cell_type": "code",
   "execution_count": 50,
   "id": "48482943",
   "metadata": {},
   "outputs": [
    {
     "name": "stdout",
     "output_type": "stream",
     "text": [
      "True\n",
      "False\n",
      "True\n"
     ]
    }
   ],
   "source": [
    "#18)\n",
    "\n",
    "def strCopies(str1,item,count):\n",
    "    n=len(item)\n",
    "    if str1==\"\" and count<=0:\n",
    "        return True\n",
    "    elif str1==\"\" and count>0: \n",
    "        return False\n",
    "    \n",
    "    elif str1[:n]==item:\n",
    "        count-=1\n",
    "        return strCopies(str1[n:],item,count)\n",
    "    else:\n",
    "        return strCopies(str1[1:],item,count)\n",
    "    \n",
    "print(strCopies(\"catcowcat\", \"cat\", 2))\n",
    "print(strCopies(\"catcowcat\", \"cow\", 2))\n",
    "print(strCopies(\"catcowcat\", \"cow\", 1))"
   ]
  },
  {
   "cell_type": "code",
   "execution_count": 51,
   "id": "8fb14e93",
   "metadata": {},
   "outputs": [
    {
     "name": "stdout",
     "output_type": "stream",
     "text": [
      "codey\n",
      "yyhiyy\n",
      "yhiyhiy\n"
     ]
    }
   ],
   "source": [
    "#19)\n",
    "\n",
    "def changeXY(str1):\n",
    "    if str1=='':\n",
    "        return ''\n",
    "    else:\n",
    "        if str1[0]=='x':\n",
    "            return 'y'+changeXY(str1[1:])\n",
    "        else:\n",
    "            return str1[0]+changeXY(str1[1:])\n",
    "\n",
    "print(changeXY(\"codex\"))\n",
    "print(changeXY(\"xxhixx\"))\n",
    "print(changeXY(\"xhixhix\"))"
   ]
  },
  {
   "cell_type": "code",
   "execution_count": 52,
   "id": "d18540c0",
   "metadata": {},
   "outputs": [
    {
     "name": "stdout",
     "output_type": "stream",
     "text": [
      "True\n",
      "False\n",
      "True\n"
     ]
    }
   ],
   "source": [
    "#20)\n",
    "\n",
    "def array6(a,i):\n",
    "    if i==len(a):\n",
    "        return False\n",
    "    else:\n",
    "        if a[i]==6:\n",
    "            return True\n",
    "        else:\n",
    "            return array6(a,i+1)\n",
    "\n",
    "print(array6([1, 6, 4], 0))\n",
    "print(array6([1, 4], 0))\n",
    "print(array6([6], 0))"
   ]
  },
  {
   "cell_type": "code",
   "execution_count": 54,
   "id": "36e055cb",
   "metadata": {},
   "outputs": [
    {
     "name": "stdout",
     "output_type": "stream",
     "text": [
      "h*e*l*l*o*\n",
      "a*b*c*\n",
      "a*b*\n"
     ]
    }
   ],
   "source": [
    "#21)\n",
    "\n",
    "def allStar(str1):\n",
    "    if str1=='':\n",
    "        return ''\n",
    "    else:\n",
    "        return str1[0]+'*'+allStar(str1[1:])\n",
    "\n",
    "print(allStar(\"hello\"))\n",
    "print(allStar(\"abc\"))\n",
    "print(allStar(\"ab\"))"
   ]
  },
  {
   "cell_type": "code",
   "execution_count": 56,
   "id": "cf3a8898",
   "metadata": {},
   "outputs": [
    {
     "name": "stdout",
     "output_type": "stream",
     "text": [
      "1\n",
      "2\n",
      "1\n"
     ]
    }
   ],
   "source": [
    "#22)\n",
    "\n",
    "def countPairs(str1):\n",
    "    if len(str1)==2:\n",
    "        return 0\n",
    "    else:\n",
    "        if str1[0]==str1[2]:                  #check for index out of range\n",
    "            return 1+countPairs(str1[1:])\n",
    "        else:\n",
    "            return countPairs(str1[1:])\n",
    "\n",
    "print(countPairs(\"axa\"))\n",
    "print(countPairs(\"axax\"))\n",
    "print(countPairs(\"axbx\"))"
   ]
  },
  {
   "cell_type": "code",
   "execution_count": 73,
   "id": "fdc01c2b",
   "metadata": {},
   "outputs": [
    {
     "name": "stdout",
     "output_type": "stream",
     "text": [
      "yz\n",
      "abbc\n"
     ]
    },
    {
     "ename": "IndexError",
     "evalue": "string index out of range",
     "output_type": "error",
     "traceback": [
      "\u001b[1;31m---------------------------------------------------------------------------\u001b[0m",
      "\u001b[1;31mIndexError\u001b[0m                                Traceback (most recent call last)",
      "\u001b[1;32m~\\AppData\\Local\\Temp/ipykernel_15860/1491674663.py\u001b[0m in \u001b[0;36m<module>\u001b[1;34m\u001b[0m\n\u001b[0;32m     12\u001b[0m \u001b[0mprint\u001b[0m\u001b[1;33m(\u001b[0m\u001b[0mstringClean\u001b[0m\u001b[1;33m(\u001b[0m\u001b[1;34m\"yyzzza\"\u001b[0m\u001b[1;33m)\u001b[0m\u001b[1;33m)\u001b[0m\u001b[1;33m\u001b[0m\u001b[1;33m\u001b[0m\u001b[0m\n\u001b[0;32m     13\u001b[0m \u001b[0mprint\u001b[0m\u001b[1;33m(\u001b[0m\u001b[0mstringClean\u001b[0m\u001b[1;33m(\u001b[0m\u001b[1;34m\"abbbcdd\"\u001b[0m\u001b[1;33m)\u001b[0m\u001b[1;33m)\u001b[0m\u001b[1;33m\u001b[0m\u001b[1;33m\u001b[0m\u001b[0m\n\u001b[1;32m---> 14\u001b[1;33m \u001b[0mprint\u001b[0m\u001b[1;33m(\u001b[0m\u001b[0mstringClean\u001b[0m\u001b[1;33m(\u001b[0m\u001b[1;34m\"Hello\"\u001b[0m\u001b[1;33m)\u001b[0m\u001b[1;33m)\u001b[0m\u001b[1;33m\u001b[0m\u001b[1;33m\u001b[0m\u001b[0m\n\u001b[0m",
      "\u001b[1;32m~\\AppData\\Local\\Temp/ipykernel_15860/1491674663.py\u001b[0m in \u001b[0;36mstringClean\u001b[1;34m(str1)\u001b[0m\n\u001b[0;32m      8\u001b[0m             \u001b[1;32mreturn\u001b[0m \u001b[0mstr1\u001b[0m\u001b[1;33m[\u001b[0m\u001b[1;36m0\u001b[0m\u001b[1;33m]\u001b[0m\u001b[1;33m+\u001b[0m\u001b[0mstringClean\u001b[0m\u001b[1;33m(\u001b[0m\u001b[0mstr1\u001b[0m\u001b[1;33m[\u001b[0m\u001b[1;36m2\u001b[0m\u001b[1;33m:\u001b[0m\u001b[1;33m]\u001b[0m\u001b[1;33m)\u001b[0m\u001b[1;33m\u001b[0m\u001b[1;33m\u001b[0m\u001b[0m\n\u001b[0;32m      9\u001b[0m         \u001b[1;32melse\u001b[0m\u001b[1;33m:\u001b[0m\u001b[1;33m\u001b[0m\u001b[1;33m\u001b[0m\u001b[0m\n\u001b[1;32m---> 10\u001b[1;33m             \u001b[1;32mreturn\u001b[0m \u001b[0mstr1\u001b[0m\u001b[1;33m[\u001b[0m\u001b[1;36m0\u001b[0m\u001b[1;33m]\u001b[0m\u001b[1;33m+\u001b[0m\u001b[0mstringClean\u001b[0m\u001b[1;33m(\u001b[0m\u001b[0mstr1\u001b[0m\u001b[1;33m[\u001b[0m\u001b[1;36m1\u001b[0m\u001b[1;33m:\u001b[0m\u001b[1;33m]\u001b[0m\u001b[1;33m)\u001b[0m\u001b[1;33m\u001b[0m\u001b[1;33m\u001b[0m\u001b[0m\n\u001b[0m\u001b[0;32m     11\u001b[0m \u001b[1;33m\u001b[0m\u001b[0m\n\u001b[0;32m     12\u001b[0m \u001b[0mprint\u001b[0m\u001b[1;33m(\u001b[0m\u001b[0mstringClean\u001b[0m\u001b[1;33m(\u001b[0m\u001b[1;34m\"yyzzza\"\u001b[0m\u001b[1;33m)\u001b[0m\u001b[1;33m)\u001b[0m\u001b[1;33m\u001b[0m\u001b[1;33m\u001b[0m\u001b[0m\n",
      "\u001b[1;32m~\\AppData\\Local\\Temp/ipykernel_15860/1491674663.py\u001b[0m in \u001b[0;36mstringClean\u001b[1;34m(str1)\u001b[0m\n\u001b[0;32m      8\u001b[0m             \u001b[1;32mreturn\u001b[0m \u001b[0mstr1\u001b[0m\u001b[1;33m[\u001b[0m\u001b[1;36m0\u001b[0m\u001b[1;33m]\u001b[0m\u001b[1;33m+\u001b[0m\u001b[0mstringClean\u001b[0m\u001b[1;33m(\u001b[0m\u001b[0mstr1\u001b[0m\u001b[1;33m[\u001b[0m\u001b[1;36m2\u001b[0m\u001b[1;33m:\u001b[0m\u001b[1;33m]\u001b[0m\u001b[1;33m)\u001b[0m\u001b[1;33m\u001b[0m\u001b[1;33m\u001b[0m\u001b[0m\n\u001b[0;32m      9\u001b[0m         \u001b[1;32melse\u001b[0m\u001b[1;33m:\u001b[0m\u001b[1;33m\u001b[0m\u001b[1;33m\u001b[0m\u001b[0m\n\u001b[1;32m---> 10\u001b[1;33m             \u001b[1;32mreturn\u001b[0m \u001b[0mstr1\u001b[0m\u001b[1;33m[\u001b[0m\u001b[1;36m0\u001b[0m\u001b[1;33m]\u001b[0m\u001b[1;33m+\u001b[0m\u001b[0mstringClean\u001b[0m\u001b[1;33m(\u001b[0m\u001b[0mstr1\u001b[0m\u001b[1;33m[\u001b[0m\u001b[1;36m1\u001b[0m\u001b[1;33m:\u001b[0m\u001b[1;33m]\u001b[0m\u001b[1;33m)\u001b[0m\u001b[1;33m\u001b[0m\u001b[1;33m\u001b[0m\u001b[0m\n\u001b[0m\u001b[0;32m     11\u001b[0m \u001b[1;33m\u001b[0m\u001b[0m\n\u001b[0;32m     12\u001b[0m \u001b[0mprint\u001b[0m\u001b[1;33m(\u001b[0m\u001b[0mstringClean\u001b[0m\u001b[1;33m(\u001b[0m\u001b[1;34m\"yyzzza\"\u001b[0m\u001b[1;33m)\u001b[0m\u001b[1;33m)\u001b[0m\u001b[1;33m\u001b[0m\u001b[1;33m\u001b[0m\u001b[0m\n",
      "\u001b[1;32m~\\AppData\\Local\\Temp/ipykernel_15860/1491674663.py\u001b[0m in \u001b[0;36mstringClean\u001b[1;34m(str1)\u001b[0m\n\u001b[0;32m      6\u001b[0m     \u001b[1;32melse\u001b[0m\u001b[1;33m:\u001b[0m\u001b[1;33m\u001b[0m\u001b[1;33m\u001b[0m\u001b[0m\n\u001b[0;32m      7\u001b[0m         \u001b[1;32mif\u001b[0m \u001b[0mstr1\u001b[0m\u001b[1;33m[\u001b[0m\u001b[1;36m0\u001b[0m\u001b[1;33m]\u001b[0m\u001b[1;33m==\u001b[0m\u001b[0mstr1\u001b[0m\u001b[1;33m[\u001b[0m\u001b[1;36m1\u001b[0m\u001b[1;33m]\u001b[0m\u001b[1;33m:\u001b[0m\u001b[1;33m\u001b[0m\u001b[1;33m\u001b[0m\u001b[0m\n\u001b[1;32m----> 8\u001b[1;33m             \u001b[1;32mreturn\u001b[0m \u001b[0mstr1\u001b[0m\u001b[1;33m[\u001b[0m\u001b[1;36m0\u001b[0m\u001b[1;33m]\u001b[0m\u001b[1;33m+\u001b[0m\u001b[0mstringClean\u001b[0m\u001b[1;33m(\u001b[0m\u001b[0mstr1\u001b[0m\u001b[1;33m[\u001b[0m\u001b[1;36m2\u001b[0m\u001b[1;33m:\u001b[0m\u001b[1;33m]\u001b[0m\u001b[1;33m)\u001b[0m\u001b[1;33m\u001b[0m\u001b[1;33m\u001b[0m\u001b[0m\n\u001b[0m\u001b[0;32m      9\u001b[0m         \u001b[1;32melse\u001b[0m\u001b[1;33m:\u001b[0m\u001b[1;33m\u001b[0m\u001b[1;33m\u001b[0m\u001b[0m\n\u001b[0;32m     10\u001b[0m             \u001b[1;32mreturn\u001b[0m \u001b[0mstr1\u001b[0m\u001b[1;33m[\u001b[0m\u001b[1;36m0\u001b[0m\u001b[1;33m]\u001b[0m\u001b[1;33m+\u001b[0m\u001b[0mstringClean\u001b[0m\u001b[1;33m(\u001b[0m\u001b[0mstr1\u001b[0m\u001b[1;33m[\u001b[0m\u001b[1;36m1\u001b[0m\u001b[1;33m:\u001b[0m\u001b[1;33m]\u001b[0m\u001b[1;33m)\u001b[0m\u001b[1;33m\u001b[0m\u001b[1;33m\u001b[0m\u001b[0m\n",
      "\u001b[1;32m~\\AppData\\Local\\Temp/ipykernel_15860/1491674663.py\u001b[0m in \u001b[0;36mstringClean\u001b[1;34m(str1)\u001b[0m\n\u001b[0;32m      5\u001b[0m         \u001b[1;32mreturn\u001b[0m \u001b[1;34m\"\"\u001b[0m\u001b[1;33m\u001b[0m\u001b[1;33m\u001b[0m\u001b[0m\n\u001b[0;32m      6\u001b[0m     \u001b[1;32melse\u001b[0m\u001b[1;33m:\u001b[0m\u001b[1;33m\u001b[0m\u001b[1;33m\u001b[0m\u001b[0m\n\u001b[1;32m----> 7\u001b[1;33m         \u001b[1;32mif\u001b[0m \u001b[0mstr1\u001b[0m\u001b[1;33m[\u001b[0m\u001b[1;36m0\u001b[0m\u001b[1;33m]\u001b[0m\u001b[1;33m==\u001b[0m\u001b[0mstr1\u001b[0m\u001b[1;33m[\u001b[0m\u001b[1;36m1\u001b[0m\u001b[1;33m]\u001b[0m\u001b[1;33m:\u001b[0m\u001b[1;33m\u001b[0m\u001b[1;33m\u001b[0m\u001b[0m\n\u001b[0m\u001b[0;32m      8\u001b[0m             \u001b[1;32mreturn\u001b[0m \u001b[0mstr1\u001b[0m\u001b[1;33m[\u001b[0m\u001b[1;36m0\u001b[0m\u001b[1;33m]\u001b[0m\u001b[1;33m+\u001b[0m\u001b[0mstringClean\u001b[0m\u001b[1;33m(\u001b[0m\u001b[0mstr1\u001b[0m\u001b[1;33m[\u001b[0m\u001b[1;36m2\u001b[0m\u001b[1;33m:\u001b[0m\u001b[1;33m]\u001b[0m\u001b[1;33m)\u001b[0m\u001b[1;33m\u001b[0m\u001b[1;33m\u001b[0m\u001b[0m\n\u001b[0;32m      9\u001b[0m         \u001b[1;32melse\u001b[0m\u001b[1;33m:\u001b[0m\u001b[1;33m\u001b[0m\u001b[1;33m\u001b[0m\u001b[0m\n",
      "\u001b[1;31mIndexError\u001b[0m: string index out of range"
     ]
    }
   ],
   "source": [
    "#23)\n",
    "\n",
    "def stringClean(str1):\n",
    "    if str1==\"\":\n",
    "        return new_str\n",
    "    else:\n",
    "        if str1[0]==str1[1]:\n",
    "            new_str\n",
    "    \n",
    "\n",
    "print(stringClean(\"yyzzza\"))\n",
    "print(stringClean(\"abbbcdd\"))\n",
    "print(stringClean(\"Hello\"))"
   ]
  },
  {
   "cell_type": "code",
   "execution_count": 68,
   "id": "507e89a9",
   "metadata": {},
   "outputs": [
    {
     "name": "stdout",
     "output_type": "stream",
     "text": [
      "True\n",
      "True\n",
      "False\n"
     ]
    }
   ],
   "source": [
    "#24)\n",
    "\n",
    "def nestParen(str1):\n",
    "    if str1==\"\":\n",
    "        return True\n",
    "    #elif str1[0]!='(' and str1!=\"\":\n",
    "     #   return False\n",
    "    elif str1[0]==\"(\" and str1[len(str1)-1]==\")\":\n",
    "        return nestParen(str1[1:len(str1)-1])\n",
    "    else:\n",
    "        return False\n",
    "    \n",
    "\n",
    "print(nestParen(\"(())\"))\n",
    "print(nestParen(\"((()))\"))\n",
    "print(nestParen(\"(((x))\"))"
   ]
  },
  {
   "cell_type": "code",
   "execution_count": 76,
   "id": "8484e35d",
   "metadata": {},
   "outputs": [
    {
     "name": "stdout",
     "output_type": "stream",
     "text": [
      "None\n",
      "1\n",
      "2\n"
     ]
    }
   ],
   "source": [
    "#25)\n",
    "\n",
    "def strDist(str1,item):\n",
    "    n=len(item)\n",
    "    if str1==\"\":\n",
    "        return 0\n",
    "    elif str1[:n]==item:\n",
    "        if str1[len(str1)-1:len(str1)-1-n:-1]==item:\n",
    "            return len(str1)\n",
    "    else:\n",
    "        return strCount(str1[1:],item)\n",
    "    \n",
    "    \n",
    "print(strDist(\"catcowcat\", \"cat\"))\n",
    "print(strDist(\"catcowcat\", \"cow\"))\n",
    "print(strDist(\"cccatcowcatxx\", \"cat\"))"
   ]
  },
  {
   "cell_type": "code",
   "execution_count": 78,
   "id": "92ad1b37",
   "metadata": {},
   "outputs": [
    {
     "name": "stdout",
     "output_type": "stream",
     "text": [
      "True\n",
      "True\n",
      "False\n"
     ]
    }
   ],
   "source": [
    "#26)\n",
    "\n",
    "def groupSum(i,a,num):\n",
    "    if i==len(a):\n",
    "        if num==0:\n",
    "            return True\n",
    "        else:\n",
    "            return False\n",
    "    elif groupSum(i+1,a,num-a[i]):\n",
    "        return True\n",
    "    elif groupSum(i+1,a,num):\n",
    "        return True\n",
    "    else:\n",
    "        return False       \n",
    "        \n",
    "print(groupSum(0, [2, 4, 8], 10))\n",
    "print(groupSum(0, [2, 4, 8], 14))\n",
    "print(groupSum(0, [2, 4, 8], 9))"
   ]
  },
  {
   "cell_type": "code",
   "execution_count": null,
   "id": "652ba7b1",
   "metadata": {},
   "outputs": [],
   "source": [
    "#27)\n",
    "\n"
   ]
  },
  {
   "cell_type": "code",
   "execution_count": null,
   "id": "56089754",
   "metadata": {},
   "outputs": [],
   "source": [
    "#30)\n",
    "def groupSum5(i,A,target):\n",
    "    \n",
    "    \n",
    "    \n",
    "\n",
    "\n",
    "\n",
    "\n",
    "\n",
    "Input: groupSum5(0, [2, 5, 10, 4], 19)\n",
    "Output: True\n",
    "Input: groupSum5(0, [2, 5, 10, 4], 17)\n",
    "Output: True\n",
    "Input: groupSum5(0, [2, 5, 10, 4], 12)\n",
    "Output: False"
   ]
  },
  {
   "cell_type": "code",
   "execution_count": 50,
   "id": "75441f31",
   "metadata": {},
   "outputs": [
    {
     "name": "stdout",
     "output_type": "stream",
     "text": [
      "15\n"
     ]
    }
   ],
   "source": [
    "def multiple5(i,A):\n",
    "    if i==len(A):\n",
    "        return 0\n",
    "    elif A[i]%5==0:\n",
    "        return A[i]+multiple5(i+1,A)\n",
    "    else:\n",
    "        return multiple5(i+1,A)\n",
    "    \n",
    "print(multiple5(0,[2, 5, 10, 4]))"
   ]
  },
  {
   "cell_type": "code",
   "execution_count": 58,
   "id": "283dc483",
   "metadata": {},
   "outputs": [
    {
     "name": "stdout",
     "output_type": "stream",
     "text": [
      "5\n",
      "4\n",
      "3\n",
      "2\n",
      "1\n"
     ]
    }
   ],
   "source": [
    "def reverseprint(A,i):\n",
    "    if i==len(A):\n",
    "        return 0\n",
    "    else:\n",
    "        reverseprint(A,i+1)\n",
    "        print(A[i])\n",
    "        \n",
    "reverseprint([1,2,3,4,5],0)"
   ]
  },
  {
   "cell_type": "code",
   "execution_count": 60,
   "id": "18f142fb",
   "metadata": {},
   "outputs": [
    {
     "name": "stdout",
     "output_type": "stream",
     "text": [
      "5\n",
      "4\n",
      "3\n",
      "2\n",
      "1\n"
     ]
    }
   ],
   "source": [
    "def revPrint(i, Arr):\n",
    "    if len(Arr) == i:\n",
    "        return 0\n",
    "    else:\n",
    "        revPrint(i+1 , Arr)\n",
    "        print(Arr[i])\n",
    "\n",
    "\n",
    "revPrint(0, [1, 2, 3, 4, 5])"
   ]
  },
  {
   "cell_type": "code",
   "execution_count": 79,
   "id": "aba874aa",
   "metadata": {},
   "outputs": [
    {
     "name": "stdout",
     "output_type": "stream",
     "text": [
      "4\n"
     ]
    }
   ],
   "source": []
  },
  {
   "cell_type": "code",
   "execution_count": null,
   "id": "d73a210f",
   "metadata": {},
   "outputs": [],
   "source": []
  }
 ],
 "metadata": {
  "kernelspec": {
   "display_name": "Python 3 (ipykernel)",
   "language": "python",
   "name": "python3"
  },
  "language_info": {
   "codemirror_mode": {
    "name": "ipython",
    "version": 3
   },
   "file_extension": ".py",
   "mimetype": "text/x-python",
   "name": "python",
   "nbconvert_exporter": "python",
   "pygments_lexer": "ipython3",
   "version": "3.9.7"
  }
 },
 "nbformat": 4,
 "nbformat_minor": 5
}
