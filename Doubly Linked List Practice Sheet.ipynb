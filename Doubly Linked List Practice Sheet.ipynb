{
 "cells": [
  {
   "cell_type": "code",
   "execution_count": 1,
   "id": "9cdfdf01",
   "metadata": {},
   "outputs": [],
   "source": [
    "class Node:\n",
    "    def __init__(self, elem, next, prev):\n",
    "        self.elem=elem\n",
    "        self.next=next\n",
    "        self.prev=prev"
   ]
  },
  {
   "cell_type": "code",
   "execution_count": 13,
   "id": "729ccef6",
   "metadata": {},
   "outputs": [
    {
     "name": "stdout",
     "output_type": "stream",
     "text": [
      "----------TEST 1----------\n",
      "1 7 7 1 \n",
      "True\n",
      "1 7 4 5 \n",
      "False\n",
      "----------TEST 2----------\n",
      "50 40 30 20 10 \n"
     ]
    }
   ],
   "source": [
    "#non dummy headed non circular doubly linked list\n",
    "\n",
    "class nondum_noncirc_dll:\n",
    "    def __init__(self,a):\n",
    "        if type(a)==list:\n",
    "            n=Node(a[0],None,None)\n",
    "            self.head=n\n",
    "            tail=n\n",
    "            for i in range(1, len(a)):\n",
    "                n=Node(a[i],None,None) \n",
    "                tail.next=n\n",
    "                n.prev=tail\n",
    "                tail=n\n",
    "        else:\n",
    "            self.head=a\n",
    "        \n",
    "    def fprint(self):\n",
    "        h=self.head\n",
    "        while h!=None:\n",
    "            print(h.elem,end=' ')\n",
    "            h=h.next \n",
    "        print('')\n",
    "#1)        \n",
    "    def palindrome_check(self):\n",
    "        last=self.head\n",
    "        while last.next!=None:       #if you want to get the very last node, set last.next!=None\n",
    "            last=last.next\n",
    "        first=self.head\n",
    "        pal=True\n",
    "        while first.next!=None:\n",
    "            if first.elem==last.elem:\n",
    "                pal=True\n",
    "            else:\n",
    "                pal=False\n",
    "                break\n",
    "            first=first.next\n",
    "            last=last.prev\n",
    "        return pal\n",
    "    \n",
    "#2)\n",
    "    def reverse(self):\n",
    "        h=self.head\n",
    "        copyhead=None\n",
    "        while h!=None:\n",
    "            n=Node(h.elem,None,None)\n",
    "            if copyhead==None:\n",
    "                copyhead=n\n",
    "            else:\n",
    "                copyhead.prev=n\n",
    "                n.next=copyhead\n",
    "                copyhead=n   \n",
    "            h=h.next\n",
    "        return copyhead\n",
    "        \n",
    "       \n",
    "print('----------TEST 1----------')            \n",
    "a1=[1,7,7,1]\n",
    "h1=nondum_noncirc_dll(a1)\n",
    "h1.fprint()\n",
    "print(h1.palindrome_check())\n",
    "\n",
    "b1=[1,7,4,5]\n",
    "h2=nondum_noncirc_dll(b1)\n",
    "h2.fprint()\n",
    "print(h2.palindrome_check())\n",
    "\n",
    "print('----------TEST 2----------') \n",
    "c1=[10,20,30,40,50]\n",
    "h3=nondum_noncirc_dll(c1)\n",
    "revc1H=h3.reverse()\n",
    "h4=nondum_noncirc_dll(revc1H)\n",
    "h4.fprint()"
   ]
  },
  {
   "cell_type": "code",
   "execution_count": 17,
   "id": "25de4422",
   "metadata": {},
   "outputs": [
    {
     "name": "stdout",
     "output_type": "stream",
     "text": [
      "10 70 40 15 \n",
      "70\n"
     ]
    }
   ],
   "source": [
    "class dum_circ_dll:\n",
    "    def __init__(self,a):\n",
    "        if type(a)==list:\n",
    "            self.head=Node(None,None,None)\n",
    "            tail=self.head\n",
    "            for i in range(len(a)):\n",
    "                n=Node(a[i],None,None)\n",
    "                tail.next=n\n",
    "                n.prev=tail\n",
    "                tail=n\n",
    "            tail.next=self.head\n",
    "            self.head.prev=tail\n",
    "        \n",
    "    def fprint(self):\n",
    "        h=self.head.next\n",
    "        while h!=self.head:\n",
    "            print(h.elem,end=' ')\n",
    "            h=h.next\n",
    "        print('')\n",
    "#3)        \n",
    "    def largest_node(self):\n",
    "        h=self.head.next\n",
    "        largest=h.elem\n",
    "        while h!=self.head:\n",
    "            if h.elem>largest:\n",
    "                largest=h.elem\n",
    "            h=h.next\n",
    "        return largest\n",
    "    \n",
    "    def rotate_left(self,k):\n",
    "        oldhead=self.head\n",
    "        pass\n",
    "        \n",
    "                        \n",
    "a1=[10,70,40,15]\n",
    "a2=dum_circ_dll(a1)\n",
    "a2.fprint()\n",
    "print(a2.largest_node())"
   ]
  },
  {
   "cell_type": "code",
   "execution_count": null,
   "id": "1fe32e60",
   "metadata": {},
   "outputs": [],
   "source": []
  }
 ],
 "metadata": {
  "kernelspec": {
   "display_name": "Python 3 (ipykernel)",
   "language": "python",
   "name": "python3"
  },
  "language_info": {
   "codemirror_mode": {
    "name": "ipython",
    "version": 3
   },
   "file_extension": ".py",
   "mimetype": "text/x-python",
   "name": "python",
   "nbconvert_exporter": "python",
   "pygments_lexer": "ipython3",
   "version": "3.9.7"
  }
 },
 "nbformat": 4,
 "nbformat_minor": 5
}
