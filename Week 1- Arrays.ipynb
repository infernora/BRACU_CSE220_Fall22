{
 "cells": [
  {
   "cell_type": "code",
   "execution_count": 3,
   "id": "1253aebc",
   "metadata": {},
   "outputs": [
    {
     "name": "stdout",
     "output_type": "stream",
     "text": [
      "[0, 0, 0, 0, 0]\n",
      "[1, 2, 3, 4]\n"
     ]
    }
   ],
   "source": [
    "#Array is essentially a list that cannot be changed in length\n",
    "#NO append function in arrays\n",
    "\n",
    "#to create arrays:\n",
    "a=[0]*5\n",
    "print(a)\n",
    "b=[1,2,3,4]\n",
    "print(b)"
   ]
  },
  {
   "cell_type": "code",
   "execution_count": 9,
   "id": "68dd224c",
   "metadata": {},
   "outputs": [
    {
     "name": "stdout",
     "output_type": "stream",
     "text": [
      "[2, 3, 4, 0]\n",
      "[0, 2, 3, 4]\n"
     ]
    }
   ],
   "source": [
    "#shift-> left shift and right shift\n",
    "\n",
    "#Left Shift -> need to do with i and i+1, empty position is zero\n",
    "\n",
    "A=[1,2,3,4]\n",
    "i=0 #len(A)=4, i=0\n",
    "\n",
    "while i<(len(A)-1):\n",
    "    A[i]=A[i+1]\n",
    "    i=i+1\n",
    "A[len(A)-1]=0\n",
    "print(A)\n",
    "\n",
    "#Right Shift\n",
    "\n",
    "B=[1,2,3,4]\n",
    "i=len(B)-1 #len(A)=4, i=3\n",
    "\n",
    "while i>0:\n",
    "    A[i]=A[i-1]\n",
    "    i=i-1\n",
    "A[0]=0\n",
    "print(A)"
   ]
  },
  {
   "cell_type": "code",
   "execution_count": 15,
   "id": "ebf98de8",
   "metadata": {},
   "outputs": [
    {
     "name": "stdout",
     "output_type": "stream",
     "text": [
      "[4, 0, 0, 0]\n",
      "[0, 0, 0, 1]\n"
     ]
    }
   ],
   "source": [
    "#for multiple shifts:\n",
    "\n",
    "#Left Shift 3 times:\n",
    "\n",
    "A=[1,2,3,4]\n",
    "j=0\n",
    "while j<3:\n",
    "    i=0              \n",
    "    while i<(len(A)-1):\n",
    "        A[i]=A[i+1]\n",
    "        i=i+1\n",
    "    A[len(A)-1]=0\n",
    "    j=j+1\n",
    "print(A)\n",
    "\n",
    "#Right shift 3 times:\n",
    "\n",
    "B=[1,2,3,4]\n",
    "j=0\n",
    "\n",
    "while j<3:\n",
    "    i=len(B)-1       #i=3\n",
    "    while i>0:\n",
    "        B[i]=B[i-1]\n",
    "        i=i-1\n",
    "    B[0]=0\n",
    "    j=j+1\n",
    "print(B)  "
   ]
  },
  {
   "cell_type": "code",
   "execution_count": 17,
   "id": "3279d5b5",
   "metadata": {},
   "outputs": [
    {
     "name": "stdout",
     "output_type": "stream",
     "text": [
      "[4, 5, 6, 7, 8, 1, 2, 3]\n",
      "[6, 7, 8, 1, 2, 3, 4, 5]\n"
     ]
    }
   ],
   "source": [
    "#rotate: store lost values\n",
    "\n",
    "#Left rotate:\n",
    "A=[1,2,3,4,5,6,7,8]\n",
    "j=0\n",
    "while j<3:\n",
    "    i=0\n",
    "    x=A[0]\n",
    "    while i<(len(A)-1):\n",
    "        A[i]=A[i+1]\n",
    "        i=i+1\n",
    "    A[len(A)-1]=x\n",
    "    j=j+1\n",
    "print(A)\n",
    "\n",
    "#right rotate:\n",
    "B=[1,2,3,4,5,6,7,8]\n",
    "j=0\n",
    "while j<3:\n",
    "    i=len(B)-1\n",
    "    x=B[len(B)-1]\n",
    "    while i>0:\n",
    "        B[i]=B[i-1]\n",
    "        i=i-1\n",
    "    B[0]=x\n",
    "    j=j+1\n",
    "print(B)"
   ]
  },
  {
   "cell_type": "code",
   "execution_count": 20,
   "id": "d074391b",
   "metadata": {},
   "outputs": [
    {
     "name": "stdout",
     "output_type": "stream",
     "text": [
      "[0, 0, 0, 0, 5]\n",
      "[1, 2, 3, 4, 5]\n"
     ]
    }
   ],
   "source": [
    "#Resize-> make a bigger array by creating a new array and putting its address to original array name\n",
    "\n",
    "#suppose you want to add 5\n",
    "A=[1,2,3,4]\n",
    "B=[0]*len(A)+[5]\n",
    "print(B)\n",
    "i=0\n",
    "while i<len(A):\n",
    "    B[i]=A[i]\n",
    "    i=i+1\n",
    "A=B\n",
    "print(A)"
   ]
  },
  {
   "cell_type": "code",
   "execution_count": null,
   "id": "f1b1bb67",
   "metadata": {},
   "outputs": [],
   "source": [
    "#CIRCULAR ARRAYS\n",
    "\n",
    "#for 1 increment, you can use i=(i+1)%len(CA)\n",
    "#cannot use this for decrement\n",
    "\n",
    "#to find last elem of an array: last=((self.start+self.size)-1)%len(self.cir)"
   ]
  }
 ],
 "metadata": {
  "kernelspec": {
   "display_name": "Python 3 (ipykernel)",
   "language": "python",
   "name": "python3"
  },
  "language_info": {
   "codemirror_mode": {
    "name": "ipython",
    "version": 3
   },
   "file_extension": ".py",
   "mimetype": "text/x-python",
   "name": "python",
   "nbconvert_exporter": "python",
   "pygments_lexer": "ipython3",
   "version": "3.9.7"
  }
 },
 "nbformat": 4,
 "nbformat_minor": 5
}
